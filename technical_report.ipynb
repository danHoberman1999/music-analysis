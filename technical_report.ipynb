{
 "cells": [
  {
   "cell_type": "markdown",
   "metadata": {},
   "source": [
    "# Daily Music Analysis\n",
    "##### Daniel Hoberman\n",
    "##### CPSC 222, Fall 2020"
   ]
  },
  {
   "cell_type": "markdown",
   "metadata": {},
   "source": [
    "## Introduction\n",
    "\n",
    "### Domain Introduction\n",
    "* I will be analyzing the headphone music volume domain\n",
    "* I love listening to music and I listen to many hours of music a week. I wanted to discover what factors lead to listening to my music louder.\n",
    "* I will be researching the average volume of my music per day, and the effects of school, stress, and music categories.\n",
    "### Dataset Description\n",
    "* The tables I am testing are average music volume (from Apple health), my stress level (personal recording), day of the week (from Apple health), average music category (from Spotify), and music device (personal recording).\n",
    "* The format I will use is csv.\n",
    "* Music volume will be recorded in decibels and is the average volume for the day. Stress level will be on a scale of 1-9. Day of week is fairly self explanatory. Average music category will be the category that I listened to most that day. Lastly, music device could be my airpods or a speaker.\n",
    "#### Hypothesis\n",
    "1. I listen to louder music on Saturday then on Sunday\n",
    "    1. Saturday is the one day I feel free from school. Sunday is when I start doing homework and studying.\n",
    "2. I listen to louder music when my stress level is high\n",
    "    1. When I am very stressed with school I listen to louder music.\n",
    "3. I Listen to rap and randb at similar levels\n",
    "    1. Rap and randb are my two favorite genres. I want to see if I listen to them using the same volume.\n",
    "4. Weekdays louder than weekends\n",
    "    1. Do I listen to louder music while school is in session or on weekends?\n",
    "5. Does music choice affect my stress level?\n",
    "### Classification\n",
    "* I attempted to classify the average music volume per day. I struggled to get the kNN classifier to have high accuracy. The best I was able to achieve was 0.0625 at an n_neighbors value of 1. I dropped columns and tested many n_neighbor values and I couldn't improve the kNN classifier accuracy.\n",
    "#### Before Cleaning"
   ]
  },
  {
   "cell_type": "code",
   "execution_count": 1,
   "metadata": {
    "scrolled": true
   },
   "outputs": [],
   "source": [
    "import utils as util\n",
    "import pandas as pd\n",
    "import numpy as np\n",
    "import scipy.stats as stats\n",
    "import matplotlib.pyplot as plt\n",
    "from sklearn.preprocessing import LabelEncoder\n",
    "from sklearn.model_selection import train_test_split\n",
    "from sklearn.preprocessing import MinMaxScaler\n",
    "from sklearn.neighbors import KNeighborsClassifier\n",
    "from sklearn.tree import DecisionTreeClassifier\n",
    "from sklearn import tree\n",
    "from sklearn.tree import DecisionTreeRegressor\n",
    "from sklearn import preprocessing\n",
    "from sklearn.linear_model import LinearRegression\n",
    "\n",
    "# loading csv file\n",
    "df = pd.read_csv(\"music_data.csv\")\n",
    "\n",
    "# using dropna() to clear out empty data, but since data was collected manually dataset is already clean\n",
    "df.dropna()\n",
    "\n",
    "util.output(df)\n",
    "util.clean_class(df)\n",
    "print(df)\n",
    "\n",
    "# setting up kNN and decision tree, dropping mDevice and testing set: DB\n",
    "X_train = df.drop([\"DB\",\"mDevice\"], axis=1)\n",
    "# Y train should only include testing set\n",
    "Y_train = df['DB']"
   ]
  },
  {
   "cell_type": "markdown",
   "metadata": {},
   "source": [
    "## Problem 1\n",
    "1. For this problem, I will test if I listen to louder music on Saturday then Sunday\n",
    "    1. This data consists of information collected from myself\n",
    "    2. Because I am comparing two different samples to eachother, from within a population I will use a two-sample t test\n",
    "        1. The data has two samples, we don't know the population stdv\n",
    "        2. Because of this we will use the t test\n",
    "        3. This will be a one tailed test\n",
    "        4. The data is independent because the samples don't affect eachother\n",
    "        5. Sig = 0.01\n",
    "2. Hypothesis test\n",
    "    1. Step 1\n",
    "        * $H_{0}: u_{1} \\leq u_{2}$\n",
    "        * $H_{1}: u_{1} > u_{2}$\n",
    "    2. Step 2\n",
    "        * $\\alpha = 0.01$\n",
    "    3. Step 3\n",
    "        * $t =\\frac{\\overline{x_1}-\\overline{x_2}}{\\sqrt{s_{p}^{2}(\\frac{1}{n_{1}}+\\frac{1}{n_2})}}$\n",
    "    4. Step 4\n",
    "        * $(n_{1}-1)+(n_{2}-1)-2$\n",
    "        * t =2.583 based of df= 16 sig = 0.01\n",
    "        * if t-computed > 2.639 reject $H_{0}$\n",
    "        * if t-computed <= 2.639 don't reject $H_{0}$"
   ]
  },
  {
   "cell_type": "code",
   "execution_count": 3,
   "metadata": {},
   "outputs": [
    {
     "name": "stdout",
     "output_type": "stream",
     "text": [
      "Computed T Value: 0.055933267915616036\n"
     ]
    }
   ],
   "source": [
    "# Calculates T value\n",
    "weekendValues = util.weekendGroups(df)\n",
    "print(\"Computed T Value:\", weekendValues[0])"
   ]
  },
  {
   "cell_type": "markdown",
   "metadata": {},
   "source": [
    "1. step 5\n",
    "    1. t-calculated = 0.056\n",
    "        * Don't reject $H_{0}$\n",
    "        * Reject $H_{1}$\n",
    "        * $u_{1} > u_{2}$\n",
    "        \n",
    "##### Results determine that louder music is listened to on Saturday\n",
    "    "
   ]
  },
  {
   "cell_type": "code",
   "execution_count": 4,
   "metadata": {},
   "outputs": [
    {
     "data": {
      "image/png": "[encoded data removed]",
      "text/plain": [
       "<Figure size 432x288 with 1 Axes>"
      ]
     },
     "metadata": {
      "needs_background": "light"
     },
     "output_type": "display_data"
    }
   ],
   "source": [
    "# plotting Saturday vs Sunday mean music volume\n",
    "util.sunSat_plot(weekendValues[1], weekendValues[2], df)"
   ]
  },
  {
   "cell_type": "markdown",
   "metadata": {},
   "source": [
    "## Problem 2\n",
    "1. For this problem, I will test if I listen to louder music at stress 9 vs stress 1\n",
    "    1. This data consists of information collected from myself\n",
    "    2. Because I am comparing two different samples to eachother, from within a population I will use a two-sample t test\n",
    "        1. The data has two samples, we don't know the population stdv\n",
    "        2. Because of this we will use the t test\n",
    "        3. This will be a one tailed test\n",
    "        4. The data is independent because the samples don't affect eachother\n",
    "        5. Sig = 0.01\n",
    "2. Hypothesis test\n",
    "    1. Step 1\n",
    "        * $H_{0}: u_{1} \\leq u_{2}$\n",
    "        * $H_{1}: u_{1} > u_{2}$\n",
    "    2. Step 2\n",
    "        * $\\alpha = 0.01$\n",
    "    3. Step 3\n",
    "        * $t =\\frac{\\overline{x_1}-\\overline{x_2}}{\\sqrt{s_{p}^{2}(\\frac{1}{n_{1}}+\\frac{1}{n_2})}}$\n",
    "    4. Step 4\n",
    "        * $(n_{1}-1)+(n_{2}-1)-2$\n",
    "        * t =2.821 based of df= 9 sig = 0.01\n",
    "        * if t-computed > 2.639 reject $H_{0}$\n",
    "        * if t-computed <= 2.639 don't reject $H_{0}$"
   ]
  },
  {
   "cell_type": "code",
   "execution_count": 5,
   "metadata": {},
   "outputs": [
    {
     "name": "stdout",
     "output_type": "stream",
     "text": [
      "Computed T Value: 0.5636925245587734\n"
     ]
    }
   ],
   "source": [
    "# Calculates t value for stress group comparison\n",
    "stressValues = util.stressGroups(df)\n",
    "print(\"Computed T Value:\", stressValues[0])"
   ]
  },
  {
   "cell_type": "markdown",
   "metadata": {},
   "source": [
    "1. step 5\n",
    "    1. t-calculated = 0.56\n",
    "        * Don't reject $H_{0}$\n",
    "        * Reject $H_{1}$\n",
    "        * $u_{1} > u_{2}$\n",
    "        \n",
    "##### Results determine that I listen to louder music when stressed"
   ]
  },
  {
   "cell_type": "code",
   "execution_count": 6,
   "metadata": {},
   "outputs": [
    {
     "data": {
      "image/png": "[encoded data removed]",
      "text/plain": [
       "<Figure size 432x288 with 1 Axes>"
      ]
     },
     "metadata": {
      "needs_background": "light"
     },
     "output_type": "display_data"
    }
   ],
   "source": [
    "# scatter plot shows ranges of music volumes at different stress levels\n",
    "util.volumeScatter(df)"
   ]
  },
  {
   "cell_type": "code",
   "execution_count": 7,
   "metadata": {},
   "outputs": [
    {
     "data": {
      "image/png": "[encoded data removed]",
      "text/plain": [
       "<Figure size 432x288 with 1 Axes>"
      ]
     },
     "metadata": {
      "needs_background": "light"
     },
     "output_type": "display_data"
    }
   ],
   "source": [
    "# plots music volume vs stress level\n",
    "util.stressBar(stressValues[9], stressValues[8],stressValues[7],stressValues[6],stressValues[5],stressValues[4],stressValues[3],stressValues[2],stressValues[1],df)"
   ]
  },
  {
   "cell_type": "markdown",
   "metadata": {},
   "source": [
    "## Problem 3\n",
    "1. For this problem, I must compare the mean volume of randb to mean volume of rap\n",
    "    1. This data consists of information collected from myself\n",
    "    2. Because I am comparing two different samples to eachother, from within a population I will use a two-sample t test\n",
    "        1. The data has two samples, we don't know the population stdv\n",
    "        2. Because of this we will use the t test\n",
    "        3. The data is independent because the samples don't affect eachother\n",
    "        4. Sig = 0.01\n",
    "        5. Comparing data if equal or not so used two tails\n",
    "2. Hypothesis test\n",
    "    1. Step 1\n",
    "        * $H_{0}: u_{1} = u_{2}$\n",
    "        * $H_{1}: u_{1} \\neq u_{2}$\n",
    "    2. Step 2\n",
    "        * $\\alpha = 0.01$\n",
    "    3. Step 3\n",
    "        * $t =\\frac{\\overline{x_1}-\\overline{x_2}}{\\sqrt{s_{p}^{2}(\\frac{1}{n_{1}}+\\frac{1}{n_2})}}$\n",
    "    4. Step 4\n",
    "        * $(n_{1}-1)+(n_{2}-1)-2$\n",
    "        * = 16+9\n",
    "        * t =2.485 based of df= +25 sig = 0.01\n",
    "        * if t-computed < -2.485 or > 2.485 reject $H_{0}$\n",
    "        * if t-computed >= -2.485 and <= 2.485, don't reject $H_{0}$"
   ]
  },
  {
   "cell_type": "code",
   "execution_count": 8,
   "metadata": {},
   "outputs": [
    {
     "name": "stdout",
     "output_type": "stream",
     "text": [
      "17\n",
      "10\n",
      "Computed T Value: 0.6314266057919008\n"
     ]
    }
   ],
   "source": [
    "#organizing data by music type\n",
    "groupValues = util.musicGroups(df)\n",
    "print(\"Computed T Value:\", groupValues[0])"
   ]
  },
  {
   "cell_type": "markdown",
   "metadata": {},
   "source": [
    "1. step 5\n",
    "    1. t-calculated = 0.63\n",
    "        * Don't reject $H_{0}$\n",
    "        * reject $H_{1}$\n",
    "        * $u_{1} = u_{2}$"
   ]
  },
  {
   "cell_type": "markdown",
   "metadata": {},
   "source": [
    "#### Comparing results\n",
    "1. Based off the t-test both results have an equal mean.\n",
    "2. In 2 months I listened to randb a majority of the time 17 times vs. 10 for rap. This shows that even though the music volume is similar, I listen to randb more.\n",
    "\n",
    "##### graph of music type vs music volume"
   ]
  },
  {
   "cell_type": "code",
   "execution_count": 9,
   "metadata": {},
   "outputs": [
    {
     "data": {
      "image/png": "[encoded data removed]",
      "text/plain": [
       "<Figure size 432x288 with 1 Axes>"
      ]
     },
     "metadata": {
      "needs_background": "light"
     },
     "output_type": "display_data"
    }
   ],
   "source": [
    "# plots average music volume for each music type\n",
    "util.musicType_plot(groupValues[2],groupValues[1],groupValues[4],groupValues[5],groupValues[3],df)"
   ]
  },
  {
   "cell_type": "code",
   "execution_count": 13,
   "metadata": {},
   "outputs": [
    {
     "data": {
      "image/png": "[encoded data removed]",
      "text/plain": [
       "<Figure size 432x288 with 1 Axes>"
      ]
     },
     "metadata": {
      "needs_background": "light"
     },
     "output_type": "display_data"
    }
   ],
   "source": [
    "# plots how many days I listened to each music category\n",
    "util.musicCategory_plt(groupValues[6],groupValues[7],groupValues[8],groupValues[9],groupValues[10], df)"
   ]
  },
  {
   "cell_type": "markdown",
   "metadata": {},
   "source": [
    "## Problem 4\n",
    "1. For this problem, I will test if I listen to louder music on weekends vs weekdays\n",
    "    1. This data consists of information collected from myself\n",
    "    2. Because I am comparing two different samples to eachother, from within a population I will use a two-sample t test\n",
    "        1. The data has two samples, we don't know the population stdv\n",
    "        2. Because of this we will use the t test\n",
    "        3. This will be a one tailed test\n",
    "        4. The data is independent because the samples don't affect eachother\n",
    "        5. Sig = 0.01\n",
    "2. Hypothesis test\n",
    "    1. Step 1\n",
    "        * $H_{0}: u_{1} \\leq u_{2}$\n",
    "        * $H_{1}: u_{1} > u_{2}$\n",
    "    2. Step 2\n",
    "        * $\\alpha = 0.01$\n",
    "    3. Step 3\n",
    "        * $t =\\frac{\\overline{x_1}-\\overline{x_2}}{\\sqrt{s_{p}^{2}(\\frac{1}{n_{1}}+\\frac{1}{n_2})}}$\n",
    "    4. Step 4\n",
    "        * $(n_{1}-1)+(n_{2}-1)-2$\n",
    "        * t =2.390 based of df= 61 sig = 0.01\n",
    "        * if t-computed > 2.390 reject $H_{0}$\n",
    "        * if t-computed <= 2.390 don't reject $H_{0}$"
   ]
  },
  {
   "cell_type": "code",
   "execution_count": 23,
   "metadata": {},
   "outputs": [
    {
     "name": "stdout",
     "output_type": "stream",
     "text": [
      "Computed T Value: 0.25958706582558055\n"
     ]
    }
   ],
   "source": [
    "# getting each individual day of the week\n",
    "weekdayWeekendValues = util.weekdayWeekend(df)\n",
    "print(\"Computed T Value:\", weekdayWeekendValues)"
   ]
  },
  {
   "cell_type": "markdown",
   "metadata": {},
   "source": [
    "1. step 5\n",
    "    1. t-calculated = 0.26\n",
    "        * Don't reject $H_{0}$\n",
    "        * reject $H_{1}$\n",
    "        * $u_{1} > u_{2}$\n",
    "        \n",
    "2. Weekend values are greater then weekday values.\n",
    "    1. This should make sense because we listen to loud music on the weekends"
   ]
  },
  {
   "cell_type": "code",
   "execution_count": 24,
   "metadata": {},
   "outputs": [
    {
     "data": {
      "image/png": "[encoded data removed]",
      "text/plain": [
       "<Figure size 576x576 with 1 Axes>"
      ]
     },
     "metadata": {},
     "output_type": "display_data"
    }
   ],
   "source": [
    "# Groups stress values then creates pie plot based on percent of days at stress levels\n",
    "util.pieChart(df)"
   ]
  },
  {
   "cell_type": "markdown",
   "metadata": {},
   "source": [
    "## Data Analysis\n",
    "### Data Preparation\n",
    "* There will not be any missing data values because I have hand-collected this data, and I haven't missed any values. The data that I didn't collect by hand comes from Apple, so it is complete.\n",
    "* I checked for missing or mismarked data, but because most data was self collected there was no error.\n",
    "### Exploratory Data Analysis\n",
    "1. The graphs show that my mean music volume is very similar on Saturday and Sunday.\n",
    "2. At low stress levels music volume varies the most (ranges from low volume to high volume), at middle stress levels music volume has low variance and volume is at mid-range, and at high stress levels average music volume increases with low variance.\n",
    "3. I listen to randb loudest; then rap; then classical; then indie; and then pop.\n",
    "4. Suprisingly I listen to indie more then randb and rap. It is likely that, during the gathering phase, I was into some indie songs.\n",
    "5. Roughly 50% of the time my stress level is between 1 and 3. I experience high stress levels (7-9) only about 18% of the time.\n",
    "### Statistical Analysis\n",
    "1. Even though the graphs looked like the music volume on Sunday was the same as on Saturday, the statistical analysis showed that I listen to louder music on Saturday.\n",
    "2. The statistical analysis showed that I listen to louder music when I am very stressed (level 9) vs not stressed at all (level 1).\n",
    "3. Statistical analysis shows that the mean volume of rap is equivalent to the mean volume of randb.\n",
    "4. Lastly, I tested whether I listen to louder music on weekends vs weekdays. The results showed that I listen to louder music on the weekends."
   ]
  },
  {
   "cell_type": "markdown",
   "metadata": {},
   "source": [
    "#### Beginning Machine Learning Analysis"
   ]
  },
  {
   "cell_type": "code",
   "execution_count": 14,
   "metadata": {},
   "outputs": [
    {
     "name": "stdout",
     "output_type": "stream",
     "text": [
      "    DofW  Stress  mType\n",
      "0      1       3      4\n",
      "1      4       6      1\n",
      "2      6       3      1\n",
      "3      5       7      1\n",
      "4      0       5      3\n",
      "..   ...     ...    ...\n",
      "58     6       2      1\n",
      "59     5       8      1\n",
      "60     0       8      3\n",
      "61     2       2      1\n",
      "62     3       1      3\n",
      "\n",
      "[63 rows x 3 columns]\n"
     ]
    }
   ],
   "source": [
    "# transforming DofW and mType to numeric\n",
    "le = LabelEncoder()\n",
    "\n",
    "X_train[\"DofW\"] = le.fit_transform(X_train['DofW'])\n",
    "X_train[\"mType\"] = le.fit_transform(X_train['mType'])\n",
    "\n",
    "print(X_train)"
   ]
  },
  {
   "cell_type": "code",
   "execution_count": 15,
   "metadata": {},
   "outputs": [
    {
     "name": "stdout",
     "output_type": "stream",
     "text": [
      "[[0.16666667 0.75       0.        ]\n",
      " [0.83333333 1.         0.75      ]\n",
      " [0.16666667 0.625      1.        ]\n",
      " [0.16666667 0.625      0.75      ]\n",
      " [0.16666667 0.625      0.5       ]\n",
      " [0.66666667 0.         0.25      ]\n",
      " [0.16666667 0.5        1.        ]\n",
      " [0.33333333 0.5        0.25      ]\n",
      " [0.33333333 0.125      0.5       ]\n",
      " [0.5        0.625      0.5       ]\n",
      " [0.66666667 0.875      0.25      ]\n",
      " [0.         0.5        0.25      ]\n",
      " [0.83333333 0.875      0.25      ]\n",
      " [0.83333333 1.         0.        ]\n",
      " [0.66666667 0.25       0.5       ]\n",
      " [1.         0.375      1.        ]\n",
      " [0.33333333 0.125      0.75      ]\n",
      " [1.         0.25       0.5       ]\n",
      " [0.5        0.375      0.75      ]\n",
      " [0.5        0.25       0.25      ]\n",
      " [0.66666667 0.625      1.        ]\n",
      " [0.5        0.125      0.5       ]\n",
      " [0.         0.875      0.75      ]\n",
      " [1.         0.25       0.75      ]\n",
      " [0.83333333 0.75       0.25      ]\n",
      " [0.33333333 0.125      0.25      ]\n",
      " [0.83333333 0.75       0.5       ]\n",
      " [0.16666667 0.         0.25      ]\n",
      " [0.83333333 0.25       0.75      ]\n",
      " [0.66666667 0.625      0.25      ]\n",
      " [0.33333333 0.125      0.25      ]\n",
      " [0.5        0.         0.75      ]\n",
      " [0.83333333 0.75       0.25      ]\n",
      " [0.5        0.375      0.25      ]\n",
      " [1.         0.5        0.25      ]\n",
      " [0.66666667 0.375      0.        ]\n",
      " [0.66666667 0.625      0.25      ]\n",
      " [0.16666667 0.25       1.        ]\n",
      " [0.33333333 0.125      0.75      ]\n",
      " [1.         0.25       0.25      ]\n",
      " [0.         0.125      0.5       ]\n",
      " [1.         0.125      0.25      ]\n",
      " [0.83333333 0.75       0.25      ]\n",
      " [0.16666667 0.25       1.        ]\n",
      " [0.         0.5        0.5       ]\n",
      " [0.33333333 0.         0.75      ]\n",
      " [1.         0.25       0.25      ]]\n",
      "[[0.66666667 0.625      0.75      ]\n",
      " [0.16666667 0.25       1.        ]\n",
      " [0.5        0.         0.75      ]\n",
      " [1.         0.25       1.        ]\n",
      " [0.         0.         1.        ]\n",
      " [0.5        0.125      0.25      ]\n",
      " [0.66666667 0.375      1.        ]\n",
      " [0.         0.5        0.75      ]\n",
      " [0.         0.25       0.25      ]\n",
      " [1.         0.25       0.25      ]\n",
      " [0.33333333 0.125      0.75      ]\n",
      " [0.         0.875      0.75      ]\n",
      " [0.         0.5        0.75      ]\n",
      " [0.83333333 0.25       0.25      ]\n",
      " [0.5        0.         0.25      ]\n",
      " [0.33333333 0.125      0.75      ]]\n",
      "35    57\n",
      "45    74\n",
      "28    57\n",
      "7     35\n",
      "14    58\n",
      "22    46\n",
      "42    57\n",
      "54    55\n",
      "40    53\n",
      "41    33\n",
      "57    51\n",
      "18    42\n",
      "59    65\n",
      "31    49\n",
      "15    33\n",
      "30    50\n",
      "5     63\n",
      "16    47\n",
      "20    43\n",
      "55    45\n",
      "8     54\n",
      "13    53\n",
      "25    48\n",
      "37    61\n",
      "17    52\n",
      "61    71\n",
      "52    47\n",
      "56    32\n",
      "38    57\n",
      "1     51\n",
      "12    45\n",
      "48    85\n",
      "24    61\n",
      "6     58\n",
      "23    41\n",
      "36    54\n",
      "50    68\n",
      "21    47\n",
      "19    47\n",
      "9     49\n",
      "39    48\n",
      "58    56\n",
      "3     47\n",
      "0     47\n",
      "53    48\n",
      "47    45\n",
      "44    64\n",
      "Name: DB, dtype: int64\n",
      "43    66\n",
      "49    56\n",
      "62    57\n",
      "51    61\n",
      "32    66\n",
      "34    60\n",
      "29    54\n",
      "46    56\n",
      "11    39\n",
      "2     48\n",
      "26    41\n",
      "60    68\n",
      "4     75\n",
      "10    38\n",
      "27    44\n",
      "33    61\n",
      "Name: DB, dtype: int64\n"
     ]
    }
   ],
   "source": [
    "#Scaling data\n",
    "scaler = MinMaxScaler()\n",
    "X_train = scaler.fit_transform(X_train)\n",
    "\n",
    "#splitting up data for test groups\n",
    "X_train, X_test, Y_train, Y_test = train_test_split(X_train, Y_train, random_state=0)\n",
    "print(X_train)\n",
    "print(X_test)\n",
    "print(Y_train)\n",
    "print(Y_test)"
   ]
  },
  {
   "cell_type": "code",
   "execution_count": 16,
   "metadata": {},
   "outputs": [
    {
     "name": "stdout",
     "output_type": "stream",
     "text": [
      "[54 47 85 50 47 45 54 35 42 49 63 48 35 49 46 63]\n",
      "0.0625\n"
     ]
    }
   ],
   "source": [
    "# setting up clf\n",
    "clf = KNeighborsClassifier(n_neighbors=1, metric=\"euclidean\")\n",
    "clf.fit(X_train, Y_train)\n",
    "\n",
    "#  predicted y values\n",
    "Y_predicted = clf.predict(X_test)\n",
    "print(Y_predicted)\n",
    "\n",
    "# accuracy of predictions\n",
    "accuracy = clf.score(X_test, Y_test)\n",
    "print(accuracy)"
   ]
  },
  {
   "cell_type": "markdown",
   "metadata": {},
   "source": [
    "#### Highest accuracy\n",
    "\n",
    "1. n_neighbors level\n",
    "    1. neighbors 1 = 0.0625\n",
    "2. relatively low accuracy for prediction. Likely because sample size isn't that large"
   ]
  },
  {
   "cell_type": "code",
   "execution_count": 17,
   "metadata": {},
   "outputs": [
    {
     "name": "stdout",
     "output_type": "stream",
     "text": [
      "[54 47 85 61 48 45 54 48 42 49 47 48 48 47 45 47]\n",
      "0.125\n"
     ]
    }
   ],
   "source": [
    "# setting up decisionTree using random_state\n",
    "tree_clf = DecisionTreeClassifier(random_state=0)\n",
    "tree_clf.fit(X_train, Y_train)\n",
    "\n",
    "#predicted values of the tree\n",
    "y_predicted_tree = tree_clf.predict(X_test)\n",
    "print(y_predicted_tree)\n",
    "\n",
    "#accuracy of the tree\n",
    "accuracy_tree = tree_clf.score(X_test, Y_test)\n",
    "print(accuracy_tree)"
   ]
  },
  {
   "cell_type": "markdown",
   "metadata": {},
   "source": [
    "#### Decision tree accuracy and kNN accuracy\n",
    "\n",
    "1. Using a max depth of 25 gives me an accuracy of 0.125 if I drop mDevice\n",
    "2. Using a max depth of 26 gives me an accuracy of 0.0625 if I drop mDevice and mType\n",
    "3. Using a max depth of 25 gives me an accuracy of 0.0625 if I drop Stress\n",
    "4. Using a max depth of 15 gives me an accuracy of 0.125 if I drop mDevice\n",
    "5. Dropping everything but stress gives me 0 on accuracy for every depth or n_neighbors\n",
    "6. Dropping mDevice and n_neighbors 1 gives me accuracy of 0.0625\n",
    "7. Dropping everything but day of the week also gives me 0 accuracy\n",
    "8. Using random state for decision tree also gives me accuracy of 0.125"
   ]
  },
  {
   "cell_type": "code",
   "execution_count": 18,
   "metadata": {},
   "outputs": [
    {
     "data": {
      "image/png": "[encoded data removed]",
      "text/plain": [
       "<Figure size 432x288 with 1 Axes>"
      ]
     },
     "metadata": {
      "needs_background": "light"
     },
     "output_type": "display_data"
    }
   ],
   "source": [
    "# code used to plot the tree\n",
    "fig = plt.figure()\n",
    "tree.plot_tree(tree_clf, filled=True)\n",
    "fig.savefig(\"music_data_tree.pdf\")"
   ]
  },
  {
   "cell_type": "code",
   "execution_count": 19,
   "metadata": {},
   "outputs": [
    {
     "name": "stdout",
     "output_type": "stream",
     "text": [
      "Lin Reg Score: -0.17464205777191766\n"
     ]
    }
   ],
   "source": [
    "# finding the lin regression score of X-test, Y_test\n",
    "reg = LinearRegression()\n",
    "reg.fit(X_train, Y_train)\n",
    "Y_predicted = reg.predict(X_test)\n",
    "print(\"Lin Reg Score:\", reg.score(X_test,Y_test))"
   ]
  },
  {
   "cell_type": "code",
   "execution_count": 20,
   "metadata": {},
   "outputs": [
    {
     "name": "stdout",
     "output_type": "stream",
     "text": [
      "Tree Score: -1.269130375051518\n"
     ]
    }
   ],
   "source": [
    "tree_reg = DecisionTreeRegressor(random_state=0)\n",
    "tree_reg.fit(X_train, Y_train)\n",
    "Y_predicted_tree = tree_reg.predict(X_test)\n",
    "print(\"Tree Score:\", tree_reg.score(X_test, Y_test))"
   ]
  },
  {
   "cell_type": "code",
   "execution_count": 21,
   "metadata": {},
   "outputs": [
    {
     "data": {
      "image/png": "[encoded data removed]",
      "text/plain": [
       "<Figure size 432x288 with 1 Axes>"
      ]
     },
     "metadata": {
      "needs_background": "light"
     },
     "output_type": "display_data"
    }
   ],
   "source": [
    "import matplotlib.pyplot as plt\n",
    "plt.figure()\n",
    "# plotting Y_predicted compared to Y_test\n",
    "plt.scatter(Y_predicted, Y_test)\n",
    "plt.xlabel(\"Y_predicted\")\n",
    "plt.ylabel(\"Y_test\")\n",
    "plt.show()"
   ]
  },
  {
   "cell_type": "markdown",
   "metadata": {},
   "source": [
    "## Classification Results\n",
    "\n",
    "### Result discussion\n",
    "Overall, the results of my classification were disappointing. I tested accuracy after dropping each individual column. The only column that boosted accuracy by dropping it was the music device. I tested changing the n_neighbors 1-60 and I got a result of 0 if I went over the value of 2. Final results were kNN accuracy of 0.0625 and decision tree accuracy of 0.125\n",
    "\n",
    "### Comparing kNN to decision tree\n",
    "My decision tree ended up being more accurate at predictions then my kNN. My theory for this is that the decision tree is supervised and, therefore, allowed for more tweaking.\n",
    "\n",
    "### Analyzing decision tree regressor/ linear regression\n",
    "My linear regression score was -0.17 and my tree regression score was -1.26. This shows that these tests weren't accurate prediction methods. I didn't get interesting results from this, but the graph does show that some predictions were close, but huge outliers exist.\n"
   ]
  },
  {
   "cell_type": "markdown",
   "metadata": {},
   "source": [
    "# Conclusion\n",
    "\n",
    "### Classification Conclusion\n",
    "I believe the lack of accuracy in kNN classifier and the decision tree has to do with two factors. The first is that the dataset was collected through-out the semester and I only had 63 data entrees. A small sample size leads to much lower accuracy in classification. I listen to my music at somewhat random and unpredictable volumes. After analyzing the factors I tested -- stress, day of the week, music type, and music device -- I found that there were some correlations but the factors weren't able to fully predict my data.\n",
    "\n",
    "### Improvements\n",
    "First, I would improve the accuracy by continuing to collect data for a much longer period of time so that I had at least a few hundred data entrees. Second, I would try to find different things to test that are more correlated to music volume. Examples of this would be what I am doing while listening to my music (activity), how much I am enjoying my music (enjoyment), and whether I am feeling happy/sick etc. (health). I think with those changes my testing would be more accurate and detailed.\n",
    "\n",
    "### Summary\n",
    "This data analysis gave me some insights into what affects my music volume. However, I felt that the factors I used for testing were likely not the biggest factors on my music volume. In the future, I will analyze different factors to get better results. My hypothesis testing predictions mostly came true, but they didn't show big differences between the rejected and not rejected data. My machine learning results gave me little insight into my music volume prediction.\n",
    "\n",
    "### Ethical Impacts\n",
    "I don't think there are ethical impacts from my data. It mostly involves data from myself and it didn't have any conclusive results. I do think it is important for people listening to music to pay attention to their music volume and to factors that lead to hearing damage."
   ]
  },
  {
   "cell_type": "code",
   "execution_count": null,
   "metadata": {},
   "outputs": [],
   "source": []
  }
 ],
 "metadata": {
  "kernelspec": {
   "display_name": "Python 3",
   "language": "python",
   "name": "python3"
  },
  "language_info": {
   "codemirror_mode": {
    "name": "ipython",
    "version": 3
   },
   "file_extension": ".py",
   "mimetype": "text/x-python",
   "name": "python",
   "nbconvert_exporter": "python",
   "pygments_lexer": "ipython3",
   "version": "3.8.3"
  }
 },
 "nbformat": 4,
 "nbformat_minor": 4
}
